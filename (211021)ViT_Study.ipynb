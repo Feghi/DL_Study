{
  "nbformat": 4,
  "nbformat_minor": 0,
  "metadata": {
    "colab": {
      "name": "ViT Study",
      "provenance": [],
      "collapsed_sections": [],
      "toc_visible": true
    },
    "environment": {
      "name": "tf2-gpu.2-4.m61",
      "type": "gcloud",
      "uri": "gcr.io/deeplearning-platform-release/tf2-gpu.2-4:m61"
    },
    "kernelspec": {
      "display_name": "Python 3",
      "language": "python",
      "name": "python3"
    },
    "language_info": {
      "codemirror_mode": {
        "name": "ipython",
        "version": 3
      },
      "file_extension": ".py",
      "mimetype": "text/x-python",
      "name": "python",
      "nbconvert_exporter": "python",
      "pygments_lexer": "ipython3",
      "version": "3.7.9"
    }
  },
  "cells": [
    {
      "cell_type": "markdown",
      "metadata": {
        "id": "zSPPS2DZSu_Z"
      },
      "source": [
        "## Introduction\n",
        "\n",
        "논문: [Vision Transformer (ViT)](https://arxiv.org/abs/2010.11929)\n",
        "\n",
        "코드: [Image classification with Vision Transformer](https://keras.io/examples/vision/image_classification_with_vision_transformer/)\n",
        "\n",
        "참고 블로그: [[1]](https://theaisummer.com/vision-transformer/),[[2]](https://velog.io/@changdaeoh/Vision-Transformer-Review), [[3]](https://simonezz.tistory.com/102)\n",
        "\n",
        "Self-attention기반의 구조들은 발표 이후 자연어 처리분야에서 기존의 RNN을 대체하여 대세로 자리잡았다. 특히 큰 텍스트 코퍼스에서 사전 학습하고 작은 task-specific dataset에서 fine-tuning 하는 BERT와 같은 방식은 언어처리의 표준이 되고 있다.  트랜스포머의 계산효율성과 확장성(scalability)덕에 전례없는 사이즈의 모델(천억개 이상의 파라미터를 갖는)을 훈련하는 것이 가능해졌다. \n",
        "\n",
        "하지만, 비전분야에서는 Convolutional 구조가 아직까지 우세하게 사용되고 있다. NLP에서의 성공에 영감을 받아서 다양한 연구에서 CNN 같은 구조를 self-attention과 결합하려고 시도해왔는데, 가장 최근의 모델들은 이론상으로는 효과적이었지만, 특수한 어텐션 패턴 사용 때문에 현대 하드웨어 가속기에서 효과적으로 스케일링이 불가능했다. \n",
        "\n",
        " - ELCTRA 등의 모델에서 BERT의 계산 효율성을 문제삼아 개선된 모델을 냄\n",
        "\n",
        " \n",
        "NLP에서의 트랜스포머 이러한 성공을 본보기 삼아 Vison 분야에서 트렌스포머 적용을 시도하는 작업을 수행하였다. 기존에 , 이 논문에서는 standard transformer를 최소한의 수정으로 직접 이미지에 적용하는 것에 대해 실험을 했다. 이를 위해, 이미지를 패치별로 쪼개고 (이미지 패치들은 NLP에서의 token과 같은 방식으로 다뤄지게 된다.), 이러한 패치들의 linear embeddings sequence를 트랜스포머에 input으로 넣었다.\n",
        "\n",
        "이 모델을 supervised 방식으로 이미지 분류에 학습을 시켜 실험하였다.\n",
        "\n",
        "ImageNet과 같은 중간 사이즈의 데이터셋에서 학습했을 때, 모델은 ResNet보다 약간 낮은 수치의 정확도를 보여줬는데, 이는 트랜스포머가 CNN에 내재되어 있는 inductive biases(translation equivariance and locality)가 부족함을 의미한다. 이 때문에 중간 사이즈의 데이터셋은 이 모델을 학습시키기에 충분하지가 않음을 알 수 있다.\n",
        "\n",
        "하지만, 모델이 더 큰 데이터셋에서 학습되었을 때는 다른 양상을 보여주는데, 큰 스케일의 학습이 inductive bias를 이겨버리는 것을 알 수 있었다. ViT가 충분한 스케일의 데이터셋에서 사전학습되고 task로 전이 학습될 때 훌륭한 결과를 보여줬기 때문이다.\n",
        "\n",
        "```\n",
        " Inductive biase\n",
        "기계학습에서의 inductive bias는, 학습 모델이 지금까지 만나보지 못했던 상황에서 정확한 예측을 하기 위해 사용하는 추가적인 가정을 의미\n",
        "```\n",
        "![table](https://blog.kakaocdn.net/dn/bLG5lV/btqUEAsjnkd/jh9ehJAbtDOYNWerjxkfZ0/img.png)\n",
        "```\n",
        "여기서 Conv 같은 경우 Locality에 대한 가정이 있음 \n",
        "Convolution을 처리하는 과정을 보면 Local(지역적인) 영역에서 Spatial한 정보를 잘 뽑아냄\n",
        "이러한 모델 설계자체에 가정이들어감\n",
        "\n",
        "\"Vision Task는 지역적으로 정보를 얻을게 많다!\"\n",
        " \n",
        "RNN 또한 추가적인 가정이 들어 가 시계열적 나열에서 가까운 애들한테 더 많은 영향을 주거나 받을 수 있게 설계\n",
        "```\n",
        "\n",
        "모델이 거대한 데이터 셋(14M ~ 300M장)에 대해 훈련되는 경우 양상이 변하는데, 저자들은 대규모의 훈련이 모델의 inductive bias를 찍어누를 수 있다는 것을 확인하였는데, ViT가 충분히 큰 데이터에 사전훈련된 이후 더 작은 데이터 셋에 대해 전이되어 학습이 이루어 질 때 기존 SotA모델들의 성능에 필적하거나 혹은 능가하는 훌륭한 결과를 냈다고 한다.\n",
        "\n"
      ]
    },
    {
      "cell_type": "markdown",
      "metadata": {
        "id": "wc5t9OHIZxcU"
      },
      "source": [
        "## Related Work\n",
        "트랜스포머가 2017년 Vaswani에 의해 machine translation 분야에서 제안되었고, 많은 NLP task에서 sota가 되었다.\n",
        "대규모의 트랜스포머 기반 모델들은 자주 대규모 말뭉치에 pre-train 된 후에 당면한 과제에 맞게 fine-tuning 되었다. BERT는 denoising self-supervised을, GPT는 language modeling을 pre-training task로써 활용하였다.\n",
        "\n",
        "이미지에 대한 self-attention의 단순한 적용은 각 픽셀이 다른 모든 픽셀들에 attend 될 것을 요구한다. 그리고 이는 픽셀 수에 대해 quadratic한 복잡도를 갖으며, 이로인해 현실적인 다양한 input size에 확장될 수 없다. 그리하여 트랜스포머를 image processing에 적용시키기 위해서 몇가지 근사(approximation)방법들이 시도되어왔다.\n",
        "( local self-attention, sparse attention, applying it in blocks of varying size 등)\n",
        "이러한 많은 specialized attention 구조들은 컴퓨터 비전 task에서 유망한 결과를 보여주나,\n",
        "하드웨어 가속기에서 효율적으로 구현되기 위해서는 복잡한 엔지니어링이 필요하다.\n",
        "\n",
        "CNN과 self-attention을 결합하는데도 많은 관심이 기울여져왔다. self-attention을 이용하여 feature map들을 augmenting한다던지, CNN의 output을 추가적으로 더 처리한다던지...\n",
        "\n",
        "연구진들은 전체 크기의 이미지(full-sized image)에 대해 global self-attention을 수행하는 transformer의 적용 사례는 없다고 주장하고있으며, 그들이 본 논문에서 소개할 모델과 가장 가까운 것은 iGPT라고 한다. iGPT는 이미지의 해상도와 color space를 줄인뒤 image pixel들에 transformer를 적용한 모델이며, 하나의 generative model로써 비지도 방식으로 훈련되었으며, 그로부터 얻어진 representation은 분류를 위해 fine-tuning 되거나 선형탐색될 수 있으며 이미지넷에서 최대정확도 72%를 기록했다고 한다.\n",
        "\n",
        "본 연구는 최근 증가하는 \"표준 ImageNet 데이터셋보다 더 대규모의 이미지 recognition 데이터셋에 대한 탐구\"에 관한 논문들에 결을 같이한다고 볼 수 있다. 추가적인 데이터소스의 사용은 표준 벤치마크들에서 sota의 결과를 달성하게한다는 연구들이 있으며, 더 나아가 CNN의 성능이 데이터셋 size에 따라 어떻게 달라질 수 있는지에 대한 연구와 대규모 데이터셋(ImageNet-21k, JFT-300M)에 대한 CNN의 전이학습을 경험적으로 탐구하는 연구도 있었다.\n",
        "본 연구는 바로 위에 언급된 두 데이터셋에 초점을 맞추고있으나 이전의 연구들에서 사용한 ResNet 기반 모델들 대신 Transformer를 사용하여 학습을 진행하였다."
      ]
    },
    {
      "cell_type": "code",
      "metadata": {
        "colab": {
          "base_uri": "https://localhost:8080/"
        },
        "id": "_ihGZX0PTa7Y",
        "outputId": "0bf9f59e-c230-4d7c-dff7-d31e04042862"
      },
      "source": [
        "!pip install -U tensorflow-addons"
      ],
      "execution_count": 2,
      "outputs": [
        {
          "output_type": "stream",
          "name": "stdout",
          "text": [
            "Collecting tensorflow-addons\n",
            "  Downloading tensorflow_addons-0.14.0-cp37-cp37m-manylinux_2_12_x86_64.manylinux2010_x86_64.whl (1.1 MB)\n",
            "\u001b[?25l\r\u001b[K     |▎                               | 10 kB 18.2 MB/s eta 0:00:01\r\u001b[K     |▋                               | 20 kB 22.0 MB/s eta 0:00:01\r\u001b[K     |▉                               | 30 kB 25.2 MB/s eta 0:00:01\r\u001b[K     |█▏                              | 40 kB 27.9 MB/s eta 0:00:01\r\u001b[K     |█▌                              | 51 kB 29.6 MB/s eta 0:00:01\r\u001b[K     |█▊                              | 61 kB 31.0 MB/s eta 0:00:01\r\u001b[K     |██                              | 71 kB 30.5 MB/s eta 0:00:01\r\u001b[K     |██▍                             | 81 kB 31.6 MB/s eta 0:00:01\r\u001b[K     |██▋                             | 92 kB 24.5 MB/s eta 0:00:01\r\u001b[K     |███                             | 102 kB 24.6 MB/s eta 0:00:01\r\u001b[K     |███▎                            | 112 kB 24.6 MB/s eta 0:00:01\r\u001b[K     |███▌                            | 122 kB 24.6 MB/s eta 0:00:01\r\u001b[K     |███▉                            | 133 kB 24.6 MB/s eta 0:00:01\r\u001b[K     |████▏                           | 143 kB 24.6 MB/s eta 0:00:01\r\u001b[K     |████▍                           | 153 kB 24.6 MB/s eta 0:00:01\r\u001b[K     |████▊                           | 163 kB 24.6 MB/s eta 0:00:01\r\u001b[K     |█████                           | 174 kB 24.6 MB/s eta 0:00:01\r\u001b[K     |█████▎                          | 184 kB 24.6 MB/s eta 0:00:01\r\u001b[K     |█████▋                          | 194 kB 24.6 MB/s eta 0:00:01\r\u001b[K     |██████                          | 204 kB 24.6 MB/s eta 0:00:01\r\u001b[K     |██████▏                         | 215 kB 24.6 MB/s eta 0:00:01\r\u001b[K     |██████▌                         | 225 kB 24.6 MB/s eta 0:00:01\r\u001b[K     |██████▉                         | 235 kB 24.6 MB/s eta 0:00:01\r\u001b[K     |███████                         | 245 kB 24.6 MB/s eta 0:00:01\r\u001b[K     |███████▍                        | 256 kB 24.6 MB/s eta 0:00:01\r\u001b[K     |███████▊                        | 266 kB 24.6 MB/s eta 0:00:01\r\u001b[K     |████████                        | 276 kB 24.6 MB/s eta 0:00:01\r\u001b[K     |████████▎                       | 286 kB 24.6 MB/s eta 0:00:01\r\u001b[K     |████████▋                       | 296 kB 24.6 MB/s eta 0:00:01\r\u001b[K     |████████▉                       | 307 kB 24.6 MB/s eta 0:00:01\r\u001b[K     |█████████▏                      | 317 kB 24.6 MB/s eta 0:00:01\r\u001b[K     |█████████▌                      | 327 kB 24.6 MB/s eta 0:00:01\r\u001b[K     |█████████▊                      | 337 kB 24.6 MB/s eta 0:00:01\r\u001b[K     |██████████                      | 348 kB 24.6 MB/s eta 0:00:01\r\u001b[K     |██████████▍                     | 358 kB 24.6 MB/s eta 0:00:01\r\u001b[K     |██████████▋                     | 368 kB 24.6 MB/s eta 0:00:01\r\u001b[K     |███████████                     | 378 kB 24.6 MB/s eta 0:00:01\r\u001b[K     |███████████▎                    | 389 kB 24.6 MB/s eta 0:00:01\r\u001b[K     |███████████▌                    | 399 kB 24.6 MB/s eta 0:00:01\r\u001b[K     |███████████▉                    | 409 kB 24.6 MB/s eta 0:00:01\r\u001b[K     |████████████▏                   | 419 kB 24.6 MB/s eta 0:00:01\r\u001b[K     |████████████▍                   | 430 kB 24.6 MB/s eta 0:00:01\r\u001b[K     |████████████▊                   | 440 kB 24.6 MB/s eta 0:00:01\r\u001b[K     |█████████████                   | 450 kB 24.6 MB/s eta 0:00:01\r\u001b[K     |█████████████▎                  | 460 kB 24.6 MB/s eta 0:00:01\r\u001b[K     |█████████████▋                  | 471 kB 24.6 MB/s eta 0:00:01\r\u001b[K     |██████████████                  | 481 kB 24.6 MB/s eta 0:00:01\r\u001b[K     |██████████████▏                 | 491 kB 24.6 MB/s eta 0:00:01\r\u001b[K     |██████████████▌                 | 501 kB 24.6 MB/s eta 0:00:01\r\u001b[K     |██████████████▉                 | 512 kB 24.6 MB/s eta 0:00:01\r\u001b[K     |███████████████                 | 522 kB 24.6 MB/s eta 0:00:01\r\u001b[K     |███████████████▍                | 532 kB 24.6 MB/s eta 0:00:01\r\u001b[K     |███████████████▊                | 542 kB 24.6 MB/s eta 0:00:01\r\u001b[K     |████████████████                | 552 kB 24.6 MB/s eta 0:00:01\r\u001b[K     |████████████████▎               | 563 kB 24.6 MB/s eta 0:00:01\r\u001b[K     |████████████████▋               | 573 kB 24.6 MB/s eta 0:00:01\r\u001b[K     |████████████████▉               | 583 kB 24.6 MB/s eta 0:00:01\r\u001b[K     |█████████████████▏              | 593 kB 24.6 MB/s eta 0:00:01\r\u001b[K     |█████████████████▌              | 604 kB 24.6 MB/s eta 0:00:01\r\u001b[K     |█████████████████▊              | 614 kB 24.6 MB/s eta 0:00:01\r\u001b[K     |██████████████████              | 624 kB 24.6 MB/s eta 0:00:01\r\u001b[K     |██████████████████▍             | 634 kB 24.6 MB/s eta 0:00:01\r\u001b[K     |██████████████████▋             | 645 kB 24.6 MB/s eta 0:00:01\r\u001b[K     |███████████████████             | 655 kB 24.6 MB/s eta 0:00:01\r\u001b[K     |███████████████████▎            | 665 kB 24.6 MB/s eta 0:00:01\r\u001b[K     |███████████████████▌            | 675 kB 24.6 MB/s eta 0:00:01\r\u001b[K     |███████████████████▉            | 686 kB 24.6 MB/s eta 0:00:01\r\u001b[K     |████████████████████▏           | 696 kB 24.6 MB/s eta 0:00:01\r\u001b[K     |████████████████████▍           | 706 kB 24.6 MB/s eta 0:00:01\r\u001b[K     |████████████████████▊           | 716 kB 24.6 MB/s eta 0:00:01\r\u001b[K     |█████████████████████           | 727 kB 24.6 MB/s eta 0:00:01\r\u001b[K     |█████████████████████▎          | 737 kB 24.6 MB/s eta 0:00:01\r\u001b[K     |█████████████████████▋          | 747 kB 24.6 MB/s eta 0:00:01\r\u001b[K     |██████████████████████          | 757 kB 24.6 MB/s eta 0:00:01\r\u001b[K     |██████████████████████▏         | 768 kB 24.6 MB/s eta 0:00:01\r\u001b[K     |██████████████████████▌         | 778 kB 24.6 MB/s eta 0:00:01\r\u001b[K     |██████████████████████▉         | 788 kB 24.6 MB/s eta 0:00:01\r\u001b[K     |███████████████████████         | 798 kB 24.6 MB/s eta 0:00:01\r\u001b[K     |███████████████████████▍        | 808 kB 24.6 MB/s eta 0:00:01\r\u001b[K     |███████████████████████▊        | 819 kB 24.6 MB/s eta 0:00:01\r\u001b[K     |████████████████████████        | 829 kB 24.6 MB/s eta 0:00:01\r\u001b[K     |████████████████████████▎       | 839 kB 24.6 MB/s eta 0:00:01\r\u001b[K     |████████████████████████▋       | 849 kB 24.6 MB/s eta 0:00:01\r\u001b[K     |████████████████████████▉       | 860 kB 24.6 MB/s eta 0:00:01\r\u001b[K     |█████████████████████████▏      | 870 kB 24.6 MB/s eta 0:00:01\r\u001b[K     |█████████████████████████▍      | 880 kB 24.6 MB/s eta 0:00:01\r\u001b[K     |█████████████████████████▊      | 890 kB 24.6 MB/s eta 0:00:01\r\u001b[K     |██████████████████████████      | 901 kB 24.6 MB/s eta 0:00:01\r\u001b[K     |██████████████████████████▎     | 911 kB 24.6 MB/s eta 0:00:01\r\u001b[K     |██████████████████████████▋     | 921 kB 24.6 MB/s eta 0:00:01\r\u001b[K     |███████████████████████████     | 931 kB 24.6 MB/s eta 0:00:01\r\u001b[K     |███████████████████████████▏    | 942 kB 24.6 MB/s eta 0:00:01\r\u001b[K     |███████████████████████████▌    | 952 kB 24.6 MB/s eta 0:00:01\r\u001b[K     |███████████████████████████▉    | 962 kB 24.6 MB/s eta 0:00:01\r\u001b[K     |████████████████████████████    | 972 kB 24.6 MB/s eta 0:00:01\r\u001b[K     |████████████████████████████▍   | 983 kB 24.6 MB/s eta 0:00:01\r\u001b[K     |████████████████████████████▊   | 993 kB 24.6 MB/s eta 0:00:01\r\u001b[K     |█████████████████████████████   | 1.0 MB 24.6 MB/s eta 0:00:01\r\u001b[K     |█████████████████████████████▎  | 1.0 MB 24.6 MB/s eta 0:00:01\r\u001b[K     |█████████████████████████████▋  | 1.0 MB 24.6 MB/s eta 0:00:01\r\u001b[K     |█████████████████████████████▉  | 1.0 MB 24.6 MB/s eta 0:00:01\r\u001b[K     |██████████████████████████████▏ | 1.0 MB 24.6 MB/s eta 0:00:01\r\u001b[K     |██████████████████████████████▌ | 1.1 MB 24.6 MB/s eta 0:00:01\r\u001b[K     |██████████████████████████████▊ | 1.1 MB 24.6 MB/s eta 0:00:01\r\u001b[K     |███████████████████████████████ | 1.1 MB 24.6 MB/s eta 0:00:01\r\u001b[K     |███████████████████████████████▍| 1.1 MB 24.6 MB/s eta 0:00:01\r\u001b[K     |███████████████████████████████▋| 1.1 MB 24.6 MB/s eta 0:00:01\r\u001b[K     |████████████████████████████████| 1.1 MB 24.6 MB/s eta 0:00:01\r\u001b[K     |████████████████████████████████| 1.1 MB 24.6 MB/s \n",
            "\u001b[?25hRequirement already satisfied: typeguard>=2.7 in /usr/local/lib/python3.7/dist-packages (from tensorflow-addons) (2.7.1)\n",
            "Installing collected packages: tensorflow-addons\n",
            "Successfully installed tensorflow-addons-0.14.0\n"
          ]
        }
      ]
    },
    {
      "cell_type": "markdown",
      "metadata": {
        "id": "kxhF3r-JSu_a"
      },
      "source": [
        "## 라이브러리"
      ]
    },
    {
      "cell_type": "code",
      "metadata": {
        "id": "JZ8VnqczSu_b"
      },
      "source": [
        "import numpy as np\n",
        "import tensorflow as tf\n",
        "from tensorflow import keras\n",
        "from tensorflow.keras import layers\n",
        "import tensorflow_addons as tfa"
      ],
      "execution_count": 3,
      "outputs": []
    },
    {
      "cell_type": "markdown",
      "metadata": {
        "id": "NdQSjTAVSu_c"
      },
      "source": [
        "## 데이터 준비"
      ]
    },
    {
      "cell_type": "code",
      "metadata": {
        "id": "69qHh4ojSu_c",
        "colab": {
          "base_uri": "https://localhost:8080/"
        },
        "outputId": "294e10a5-e59b-4faf-a24c-e043748ae2e9"
      },
      "source": [
        "num_classes = 100\n",
        "input_shape = (32, 32, 3)\n",
        "\n",
        "(x_train, y_train), (x_test, y_test) = keras.datasets.cifar100.load_data()\n",
        "\n",
        "print(f\"x_train shape: {x_train.shape} - y_train shape: {y_train.shape}\")\n",
        "print(f\"x_test shape: {x_test.shape} - y_test shape: {y_test.shape}\")\n"
      ],
      "execution_count": 4,
      "outputs": [
        {
          "output_type": "stream",
          "name": "stdout",
          "text": [
            "Downloading data from https://www.cs.toronto.edu/~kriz/cifar-100-python.tar.gz\n",
            "169009152/169001437 [==============================] - 2s 0us/step\n",
            "169017344/169001437 [==============================] - 2s 0us/step\n",
            "x_train shape: (50000, 32, 32, 3) - y_train shape: (50000, 1)\n",
            "x_test shape: (10000, 32, 32, 3) - y_test shape: (10000, 1)\n"
          ]
        }
      ]
    },
    {
      "cell_type": "markdown",
      "metadata": {
        "id": "4vaKF6ZMcmWh"
      },
      "source": [
        "## 모델 구성\n",
        "\n",
        "![model](https://media.vlpt.us/images/changdaeoh/post/bff7ddf5-4aa7-471d-8574-bdbeeb75ad0d/image.png)\n",
        "\n",
        "모델에 대한 전반적인 overview는 figure 1과 같다. 표준 트랜스포머는 1차원 토큰 임베딩 시퀀스를 input으로써 받는다. 모델 내부에서 2차원 image를 다루기 위해, 본래에 3차원인 이미지 x∈R \n",
        "H×W×C\n",
        " 를 2차원의 패치들 x \n",
        "p\n",
        "​\n",
        " ∈R \n",
        "N×(P<sup>2</sup>\n",
        " ⋅C)\n",
        " 로 flatten 하였다. (H, W)는 원본이미지의 해상도이며, C는 이미지의 채널 수이고, (P, P)는 패치들의 해상도이다. 이때 N=HW/P \n",
        "2\n",
        " 은 패치의 수를 의미하는데, Transformer Encoder에 input되는 유효 시퀀스 길이(하이퍼파리미터)로써 바라볼 수도 있다. 트랜스포머는 내부의 모든 layer들에 흐르는 latent vector의 size가 D로 통일 되어있기 때문에 저자들은 2차원 patch들을 다시 1차원으로 flatten하고(size : NP<sup>2</sup>C) 이를 trainable한 linear projection을 거쳐 D차원 벡터로 매핑시켰다. 본 논문전반에서 이 projection의 결과벡터를 patch embeddings라고 언급한다.\n"
      ]
    },
    {
      "cell_type": "markdown",
      "metadata": {
        "id": "DuTVrs6KSu_c"
      },
      "source": [
        "## hyperparameter 구성"
      ]
    },
    {
      "cell_type": "code",
      "metadata": {
        "id": "a7-kTBlFSu_d"
      },
      "source": [
        "learning_rate = 0.001\n",
        "weight_decay = 0.0001\n",
        "batch_size = 256\n",
        "num_epochs = 100\n",
        "image_size = 72  # 72X72 로 이미지 리사이즈\n",
        "patch_size = 6  # 패치 사이즈\n",
        "num_patches = (image_size // patch_size) ** 2 # 패치 개수\n",
        "projection_dim = 64\n",
        "num_heads = 4\n",
        "transformer_units = [\n",
        "    projection_dim * 2,\n",
        "    projection_dim,\n",
        "]  # 프로젝션 차원\n",
        "transformer_layers = 8\n",
        "mlp_head_units = [2048, 1024]  # Size of the dense layers of the final classifier\n"
      ],
      "execution_count": 5,
      "outputs": []
    },
    {
      "cell_type": "markdown",
      "metadata": {
        "id": "RdeXIuELSu_e"
      },
      "source": [
        "## Use data augmentation"
      ]
    },
    {
      "cell_type": "code",
      "metadata": {
        "id": "Ec8-KFCSSu_e"
      },
      "source": [
        "data_augmentation = keras.Sequential(\n",
        "    [\n",
        "        layers.Normalization(),\n",
        "        layers.Resizing(image_size, image_size),\n",
        "        layers.RandomFlip(\"horizontal\"),\n",
        "        layers.RandomRotation(factor=0.02),\n",
        "        layers.RandomZoom(\n",
        "            height_factor=0.2, width_factor=0.2\n",
        "        ),\n",
        "    ],\n",
        "    name=\"data_augmentation\",\n",
        ")\n",
        "# Compute the mean and the variance of the training data for normalization.\n",
        "data_augmentation.layers[0].adapt(x_train)\n"
      ],
      "execution_count": 6,
      "outputs": []
    },
    {
      "cell_type": "markdown",
      "metadata": {
        "id": "_MqVBgTiSu_f"
      },
      "source": [
        "## Implement multilayer perceptron (MLP)\n",
        "\n",
        "ERT의 [CLS]토큰과 유사하게, 저자들은 임베딩된 패치들의 맨 앞에 하나의 학습가능한 class 토큰 임베딩 벡터를 추가하였다 pre-training시와 fine-tuning시 모두, 이 image representation vector 위에 classification head가 부착된다. clf head는 사전학습 시에는 하나의 은닉층을 가진 MLP로 구현되고, 파인튜닝 시에는 단일 linear layer로 구현된다."
      ]
    },
    {
      "cell_type": "code",
      "metadata": {
        "id": "3OKDnHaESu_f"
      },
      "source": [
        "\n",
        "def mlp(x, hidden_units, dropout_rate):\n",
        "    for units in hidden_units:\n",
        "        x = layers.Dense(units, activation=tf.nn.gelu)(x)\n",
        "        x = layers.Dropout(dropout_rate)(x)\n",
        "    return x\n"
      ],
      "execution_count": 7,
      "outputs": []
    },
    {
      "cell_type": "markdown",
      "metadata": {
        "id": "sMeMV_SwSu_f"
      },
      "source": [
        "## Implement patch creation as a layer"
      ]
    },
    {
      "cell_type": "code",
      "metadata": {
        "id": "3nlTNS3JSu_g"
      },
      "source": [
        "\n",
        "class Patches(layers.Layer):\n",
        "    def __init__(self, patch_size):\n",
        "        super(Patches, self).__init__()\n",
        "        self.patch_size = patch_size\n",
        "\n",
        "    def call(self, images):\n",
        "        batch_size = tf.shape(images)[0]\n",
        "        patches = tf.image.extract_patches(\n",
        "            images=images,\n",
        "            sizes=[1, self.patch_size, self.patch_size, 1],\n",
        "            strides=[1, self.patch_size, self.patch_size, 1],\n",
        "            rates=[1, 1, 1, 1],\n",
        "            padding=\"VALID\",\n",
        "        )\n",
        "        patch_dims = patches.shape[-1]\n",
        "        patches = tf.reshape(patches, [batch_size, -1, patch_dims])\n",
        "        return patches\n"
      ],
      "execution_count": 8,
      "outputs": []
    },
    {
      "cell_type": "markdown",
      "metadata": {
        "id": "JhOGZmaRSu_g"
      },
      "source": [
        "Let's display patches for a sample image"
      ]
    },
    {
      "cell_type": "code",
      "metadata": {
        "id": "7XCH1iG2Su_h",
        "colab": {
          "base_uri": "https://localhost:8080/",
          "height": 547
        },
        "outputId": "f8731185-fa88-46e7-cf01-5c2176a6381c"
      },
      "source": [
        "import matplotlib.pyplot as plt\n",
        "\n",
        "plt.figure(figsize=(4, 4))\n",
        "image = x_train[np.random.choice(range(x_train.shape[0]))]\n",
        "plt.imshow(image.astype(\"uint8\"))\n",
        "plt.axis(\"off\")\n",
        "\n",
        "resized_image = tf.image.resize(\n",
        "    tf.convert_to_tensor([image]), size=(image_size, image_size)\n",
        ")\n",
        "patches = Patches(patch_size)(resized_image)\n",
        "print(f\"Image size: {image_size} X {image_size}\")\n",
        "print(f\"Patch size: {patch_size} X {patch_size}\")\n",
        "print(f\"Patches per image: {patches.shape[1]}\")\n",
        "print(f\"Elements per patch: {patches.shape[-1]}\")\n",
        "\n",
        "n = int(np.sqrt(patches.shape[1]))\n",
        "plt.figure(figsize=(4, 4))\n",
        "for i, patch in enumerate(patches[0]):\n",
        "    ax = plt.subplot(n, n, i + 1)\n",
        "    patch_img = tf.reshape(patch, (patch_size, patch_size, 3))\n",
        "    plt.imshow(patch_img.numpy().astype(\"uint8\"))\n",
        "    plt.axis(\"off\")"
      ],
      "execution_count": 9,
      "outputs": [
        {
          "output_type": "stream",
          "name": "stdout",
          "text": [
            "Image size: 72 X 72\n",
            "Patch size: 6 X 6\n",
            "Patches per image: 144\n",
            "Elements per patch: 108\n"
          ]
        },
        {
          "output_type": "display_data",
          "data": {
            "image/png": "[encoded data removed]",
            "text/plain": [
              "<Figure size 288x288 with 1 Axes>"
            ]
          },
          "metadata": {
            "needs_background": "light"
          }
        },
        {
          "output_type": "display_data",
          "data": {
            "image/png": "[encoded data removed]",
            "text/plain": [
              "<Figure size 288x288 with 144 Axes>"
            ]
          },
          "metadata": {
            "needs_background": "light"
          }
        }
      ]
    },
    {
      "cell_type": "markdown",
      "metadata": {
        "id": "XNu0WY6pSu_h"
      },
      "source": [
        "## Implement the patch encoding layer\n",
        "\n",
        "위치정보를 유지시키기위하여 patch embeddings에 trainable한 position embeddings이 더해진다. 저자들은 이미지를 위한 advanced한 2D-aware position embedding이 전형적인 1D postion embedding과 비교했을 때, 유의미한 성능향상을 가져다주지 않아 1D 위치임베딩을 사용했다고 한다. 이렇게 구성된 최종 임베딩 벡터들의 시퀀스가 encoder에 인풋된다."
      ]
    },
    {
      "cell_type": "code",
      "metadata": {
        "id": "gu9iTrFMSu_i"
      },
      "source": [
        "\n",
        "class PatchEncoder(layers.Layer):\n",
        "    def __init__(self, num_patches, projection_dim):\n",
        "        super(PatchEncoder, self).__init__()\n",
        "        self.num_patches = num_patches\n",
        "        self.projection = layers.Dense(units=projection_dim)\n",
        "        self.position_embedding = layers.Embedding(\n",
        "            input_dim=num_patches, output_dim=projection_dim\n",
        "        )\n",
        "\n",
        "    def call(self, patch):\n",
        "        positions = tf.range(start=0, limit=self.num_patches, delta=1)\n",
        "        encoded = self.projection(patch) + self.position_embedding(positions)\n",
        "        return encoded\n"
      ],
      "execution_count": 10,
      "outputs": []
    },
    {
      "cell_type": "markdown",
      "metadata": {
        "id": "yEWYqi9DSu_i"
      },
      "source": [
        "## Build the ViT model\n",
        "\n",
        "트랜스포머 인코더는 multiheaded self-attention(MSA) layer들과 MLP 블록들이 교차되어 구성된다. Layernormalization이 모든 block의 전에 적용되며, residual connection이 모든 블록 이후에 붙는다. MLP는 GELU(Gaussian Error Linear Unit)를 activation으로 사용하는 2개의 layer를 포함하여 구성된다.\n",
        "\n",
        "![model](https://media.vlpt.us/images/changdaeoh/post/8259c598-8f01-4e3b-b8a5-3bae7c69de82/image.png)\n",
        "\n"
      ]
    },
    {
      "cell_type": "code",
      "metadata": {
        "id": "BpOCGFeESu_i"
      },
      "source": [
        "\n",
        "def create_vit_classifier():\n",
        "    inputs = layers.Input(shape=input_shape)\n",
        "    # Augment data.\n",
        "    augmented = data_augmentation(inputs)\n",
        "    # Create patches.\n",
        "    patches = Patches(patch_size)(augmented)\n",
        "    # Encode patches.\n",
        "    encoded_patches = PatchEncoder(num_patches, projection_dim)(patches)\n",
        "\n",
        "    # Create multiple layers of the Transformer block.\n",
        "    for _ in range(transformer_layers):\n",
        "        # Layer normalization 1.\n",
        "        x1 = layers.LayerNormalization(epsilon=1e-6)(encoded_patches)\n",
        "        # Create a multi-head attention layer.\n",
        "        attention_output = layers.MultiHeadAttention(\n",
        "            num_heads=num_heads, key_dim=projection_dim, dropout=0.1\n",
        "        )(x1, x1)\n",
        "        # Skip connection 1.\n",
        "        x2 = layers.Add()([attention_output, encoded_patches])\n",
        "        # Layer normalization 2.\n",
        "        x3 = layers.LayerNormalization(epsilon=1e-6)(x2)\n",
        "        # MLP.\n",
        "        x3 = mlp(x3, hidden_units=transformer_units, dropout_rate=0.1)\n",
        "        # Skip connection 2.\n",
        "        encoded_patches = layers.Add()([x3, x2])\n",
        "\n",
        "    # Create a [batch_size, projection_dim] tensor.\n",
        "    representation = layers.LayerNormalization(epsilon=1e-6)(encoded_patches)\n",
        "    representation = layers.Flatten()(representation)\n",
        "    representation = layers.Dropout(0.5)(representation)\n",
        "    # Add MLP.\n",
        "    features = mlp(representation, hidden_units=mlp_head_units, dropout_rate=0.5)\n",
        "    # Classify outputs.\n",
        "    logits = layers.Dense(num_classes)(features)\n",
        "    # Create the Keras model.\n",
        "    model = keras.Model(inputs=inputs, outputs=logits)\n",
        "    return model\n"
      ],
      "execution_count": 11,
      "outputs": []
    },
    {
      "cell_type": "markdown",
      "metadata": {
        "id": "xRfAVnwzSu_j"
      },
      "source": [
        "## Compile, train, and evaluate the mode"
      ]
    },
    {
      "cell_type": "code",
      "metadata": {
        "id": "3_9_gDqJSu_j",
        "colab": {
          "base_uri": "https://localhost:8080/"
        },
        "outputId": "12450102-0ef8-48d5-de94-645885b929b1"
      },
      "source": [
        "\n",
        "def run_experiment(model):\n",
        "    optimizer = tfa.optimizers.AdamW(\n",
        "        learning_rate=learning_rate, weight_decay=weight_decay\n",
        "    )\n",
        "\n",
        "    model.compile(\n",
        "        optimizer=optimizer,\n",
        "        loss=keras.losses.SparseCategoricalCrossentropy(from_logits=True),\n",
        "        metrics=[\n",
        "            keras.metrics.SparseCategoricalAccuracy(name=\"accuracy\"),\n",
        "            keras.metrics.SparseTopKCategoricalAccuracy(5, name=\"top-5-accuracy\"),\n",
        "        ],\n",
        "    )\n",
        "\n",
        "    checkpoint_filepath = \"/tmp/checkpoint\"\n",
        "    checkpoint_callback = keras.callbacks.ModelCheckpoint(\n",
        "        checkpoint_filepath,\n",
        "        monitor=\"val_accuracy\",\n",
        "        save_best_only=True,\n",
        "        save_weights_only=True,\n",
        "    )\n",
        "\n",
        "    history = model.fit(\n",
        "        x=x_train,\n",
        "        y=y_train,\n",
        "        batch_size=batch_size,\n",
        "        epochs=num_epochs,\n",
        "        validation_split=0.1,\n",
        "        callbacks=[checkpoint_callback],\n",
        "    )\n",
        "\n",
        "    model.load_weights(checkpoint_filepath)\n",
        "    _, accuracy, top_5_accuracy = model.evaluate(x_test, y_test)\n",
        "    print(f\"Test accuracy: {round(accuracy * 100, 2)}%\")\n",
        "    print(f\"Test top 5 accuracy: {round(top_5_accuracy * 100, 2)}%\")\n",
        "\n",
        "    return history\n",
        "\n",
        "\n",
        "vit_classifier = create_vit_classifier()\n",
        "history = run_experiment(vit_classifier)\n"
      ],
      "execution_count": null,
      "outputs": [
        {
          "output_type": "stream",
          "name": "stdout",
          "text": [
            "Epoch 1/100\n",
            "176/176 [==============================] - 2382s 13s/step - loss: 4.4697 - accuracy: 0.0452 - top-5-accuracy: 0.1605 - val_loss: 3.9162 - val_accuracy: 0.1124 - val_top-5-accuracy: 0.3086\n",
            "Epoch 2/100\n",
            "176/176 [==============================] - 2367s 13s/step - loss: 3.9404 - accuracy: 0.0983 - top-5-accuracy: 0.2907 - val_loss: 3.5807 - val_accuracy: 0.1596 - val_top-5-accuracy: 0.4066\n",
            "Epoch 3/100\n",
            " 95/176 [===============>..............] - ETA: 17:33 - loss: 3.7317 - accuracy: 0.1259 - top-5-accuracy: 0.3529"
          ]
        }
      ]
    },
    {
      "cell_type": "markdown",
      "metadata": {
        "id": "mT7ffEgwSu_j"
      },
      "source": [
        "100 에포크 후에 ViT 모델은 약 55%의 정확도를 달성하고\n",
        "테스트 데이터의 82% 상위 5개 정확도 달성함. \n",
        "\n",
        "14M 이상의 데이터 이상부터 파라미터를 잘 조정하면 SOTA에 근접한 성능 보임\n"
      ]
    },
    {
      "cell_type": "code",
      "metadata": {
        "id": "bZxjN2RZhJLw"
      },
      "source": [
        ""
      ],
      "execution_count": null,
      "outputs": []
    }
  ]
}